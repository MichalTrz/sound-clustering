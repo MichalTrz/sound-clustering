{
 "cells": [
  {
   "cell_type": "code",
   "execution_count": 16,
   "metadata": {},
   "outputs": [],
   "source": [
    "import IPython.display as ipd"
   ]
  },
  {
   "cell_type": "code",
   "execution_count": null,
   "metadata": {},
   "outputs": [],
   "source": []
  },
  {
   "cell_type": "markdown",
   "metadata": {},
   "source": [
    "## Soubor A350_A.wav"
   ]
  },
  {
   "cell_type": "markdown",
   "metadata": {},
   "source": [
    "### Zobrazení clusterů na časové ose\n",
    "![title](extracted/A350_A/A350_A_22k_mono-labels.png)\n",
    "### Zobrazení clusterů ve 2D prostoru\n",
    "![title](extracted\\A350_A\\A350_A_22k_mono-clusters.png)\n",
    "[Zvukové ukázky](https://github.com/MichalTrz/sound-clustering/tree/master/extracted/A350_A)"
   ]
  },
  {
   "cell_type": "markdown",
   "metadata": {},
   "source": [
    "## Soubor A350_B1.wav"
   ]
  },
  {
   "cell_type": "markdown",
   "metadata": {},
   "source": [
    "### Zobrazení clusterů na časové ose\n",
    "![title](extracted\\A350_B1\\A350_B1_22k_mono-labels.png)\n",
    "### Zobrazení clusterů ve 2D prostoru\n",
    "![title](extracted\\A350_B1\\A350_B1_22k_mono-clusters.png)\n",
    "[Zvukové ukázky](https://github.com/MichalTrz/sound-clustering/tree/master/extracted/A350_B1)"
   ]
  },
  {
   "cell_type": "markdown",
   "metadata": {},
   "source": [
    "## Soubor A350_B2.wav"
   ]
  },
  {
   "cell_type": "markdown",
   "metadata": {},
   "source": [
    "### Zobrazení clusterů na časové ose\n",
    "![title](extracted\\A350_B2\\A350_B2_22k_mono-labels.png)\n",
    "### Zobrazení clusterů ve 2D prostoru\n",
    "![title](extracted\\A350_B2\\A350_B2_22k_mono-clusters.png)\n",
    "[Zvukové ukázky](https://github.com/MichalTrz/sound-clustering/tree/master/extracted/A350_B2)"
   ]
  },
  {
   "cell_type": "markdown",
   "metadata": {},
   "source": [
    "## Soubor A350_B3_F1.wav"
   ]
  },
  {
   "cell_type": "markdown",
   "metadata": {},
   "source": [
    "### Zobrazení clusterů na časové ose\n",
    "![title](extracted\\A350_B3_F1\\A350_B3_F1_22k_mono-labels.png)\n",
    "### Zobrazení clusterů ve 2D prostoru\n",
    "![title](extracted\\A350_B3_F1\\A350_B3_F1_22k_mono-clusters.png)\n",
    "[Zvukové ukázky](https://github.com/MichalTrz/sound-clustering/tree/master/extracted/A350_B3_F1)"
   ]
  },
  {
   "cell_type": "markdown",
   "metadata": {},
   "source": [
    "## Soubor A350_B3_F2_pt1.wav"
   ]
  },
  {
   "cell_type": "markdown",
   "metadata": {},
   "source": [
    "### Zobrazení clusterů na časové ose\n",
    "![title](extracted\\A350_B3_F2_pt1\\A350_B3_F2_pt1_22k_mono-labels.png)\n",
    "### Zobrazení clusterů ve 2D prostoru\n",
    "![title](extracted\\A350_B3_F2_pt1\\A350_B3_F2_pt1_22k_mono-clusters.png)\n",
    "[Zvukové ukázky](https://github.com/MichalTrz/sound-clustering/tree/master/extracted/A350_B3_F2_pt1)"
   ]
  },
  {
   "cell_type": "markdown",
   "metadata": {},
   "source": [
    "## Soubor A350_B3_F2_pt2.wav"
   ]
  },
  {
   "cell_type": "markdown",
   "metadata": {},
   "source": [
    "### Zobrazení clusterů na časové ose\n",
    "![title](extracted\\A350_B3_F2_pt2\\A350_B3_F2_pt2_22k_mono-labels.png)\n",
    "### Zobrazení clusterů ve 2D prostoru\n",
    "![title](extracted\\A350_B3_F2_pt2\\A350_B3_F2_pt2_22k_mono-clusters.png)\n",
    "[Zvukové ukázky](https://github.com/MichalTrz/sound-clustering/tree/master/extracted/A350_B3_F2_pt2)"
   ]
  },
  {
   "cell_type": "markdown",
   "metadata": {},
   "source": [
    "## Soubor A350_B3_F2_pt3.wav"
   ]
  },
  {
   "cell_type": "markdown",
   "metadata": {},
   "source": [
    "### Zobrazení clusterů na časové ose\n",
    "![title](extracted\\A350_B3_F2_pt3\\A350_B3_F2_pt3_22k_mono-labels.png)\n",
    "### Zobrazení clusterů ve 2D prostoru\n",
    "![title](extracted\\A350_B3_F2_pt3\\A350_B3_F2_pt3_22k_mono-clusters.png)\n",
    "[Zvukové ukázky](https://github.com/MichalTrz/sound-clustering/tree/master/extracted/A350_B3_F2_pt3)"
   ]
  },
  {
   "cell_type": "code",
   "execution_count": null,
   "metadata": {},
   "outputs": [],
   "source": []
  }
 ],
 "metadata": {
  "kernelspec": {
   "display_name": "Python 3",
   "language": "python",
   "name": "python3"
  },
  "language_info": {
   "codemirror_mode": {
    "name": "ipython",
    "version": 3
   },
   "file_extension": ".py",
   "mimetype": "text/x-python",
   "name": "python",
   "nbconvert_exporter": "python",
   "pygments_lexer": "ipython3",
   "version": "3.7.3"
  }
 },
 "nbformat": 4,
 "nbformat_minor": 2
}
