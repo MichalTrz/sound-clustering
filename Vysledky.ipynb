{
 "cells": [
  {
   "cell_type": "markdown",
   "metadata": {},
   "source": [
    "# Výsledky úlohy"
   ]
  },
  {
   "cell_type": "markdown",
   "metadata": {},
   "source": [
    "Cílem úlohy bylo rozpoznat fáze letu, případně anomální zvuky. Zkoušel jsem dva odlišné způsoby zpracování. \n",
    "   \n",
    "Nejdříve jsem použil předtrénovanou neuronovou síť natrénovanou na Audiosetu, což je dataset obsahující 1000 tříd zvuků, odstranil jsem poslední (softmax) vrstvu z neuronové sítě a použil ji jako feature vector. Následně jsem použil různé clustering metody. Jako vstup jsem použil pětisekundové zvukové ukázky, které jsem ručně vystříhal z jednoho zvukového souboru. Tímto způsobem se mi nepodařilo rozpoznat od sebe fáze letu, ale anomálie byly snadno rozpoznatelné. Z podstaty datasetu a smyslu klasifikace 1000 tříd zvuků se dá předpokládat, že tímto způsobem půjde lépe odlišit různé zvuky než zvuky podobné (letadlo zní pořád jako letadlo). Tento způsob zmiňuji pouze pro zajímavost a dále jsem s ním nepracoval.\n",
    "\n",
    "Jako druhý způsob zpracování jsem použil různé feature extraktory (melcepstrum, mfcc, zcr, spectral flatness,...) jako vstup do různých unsupervised clustering algoritmů, zejména kmeans a (bayesian) gaussian mixture model a následně jsem použil mediánový filtr pro získání hladších výsledků. Pro každý soubor jsem si zobrazil rozdělení clusterů pro různé počty komponentů a udělal si ukázkové zvukové soubory a zvyšoval nebo snižoval počet komponentů podle toho, jestli byl ještě slyšet rozdíl mezi generovanými soubory a jestli to ze zobrazení clusterů ve 2D prostoru dávalo smysl. Pro každý cluster jsem udělal tři cca desetisekundové ukázky.\n",
    "\n",
    "Ze zvukových ukázek jde dle mého názoru rozpoznat fáze letu alespoň přibližně, při sloučení některých clusterů ještě o trochu lépe. Nějaké anomální zvuky jsou dle mého názoru také rozpoznané, i když mi není zřejmé, co je v tomto případě anomálie, jestli je to zvuk řeči v reproduktoru, podviné hvízdání turbíny nebo jiné zvuky. Ale všechny tyto zvuky jsou v ukázkách slyšitelné.\n",
    "\n",
    "### Odkazy na výsledky\n",
    "\n",
    "Následují výsledné zobrazení clusterů na časové ose a ve 2D prostoru spolu s odkazem na github, kde jsou uložené zvukové ukázky jednotlivých clusterů daného zvukového souboru.\n",
    "Pro usnadnění náhledu na výsledky jsem si poslechl každý zvukový soubor a zhodnotil co obsahuje:\n",
    "1. [A350_A.wav](#A350_A) - obsahuje vzlet a část letu\n",
    "2. [A350_B1.wav](#A350_B1) - je přebuzený a obsahuje výpadky, obsahuje taxi, vzlet a část letu\n",
    "3. [A350_B2.wav](#A350_B2) - obsahuje taxi, vzlet, let, přistání a taxi\n",
    "4. [A350_B3_F1.wav](#A350_B3_F1) - obsahuje taxi, vzlet a část letu\n",
    "5. [A350_B3_F2_pt1.wav](#A350_B3_F2_pt1) - je záznam nejspíš ještě před příchodem posádky kdy je letadlo v nečinnosti na zemi\n",
    "6. [A350_B3_F2_pt2.wav](#A350_B3_F2_pt2) - obsahuje taxi, vzlet a let\n",
    "7. [A350_B3_F2_pt3.wav](#A350_B3_F2_pt3) - obsahuje let, přistání a taxi"
   ]
  },
  {
   "cell_type": "markdown",
   "metadata": {},
   "source": [
    "<a id='A350_A'> </a>\n",
    "## Soubor A350_A.wav"
   ]
  },
  {
   "cell_type": "markdown",
   "metadata": {},
   "source": [
    "[Zvukové ukázky](https://github.com/MichalTrz/sound-clustering/tree/master/extracted/A350_A)\n",
    "\n",
    "\n",
    "* <font color=blue> For 2 clusters Silhouette score is (avg): **0.48** and Davies-Bouldin score score is: **1.08** </font>\n",
    "* <font color=blue> For 3 clusters Silhouette score is (avg): 0.24 and Davies-Bouldin score score is: 1.33 </font>\n",
    "* <font color=blue> For 4 clusters Silhouette score is (avg): 0.2502 and Davies-Bouldin score score is: 2.097</font>\n",
    "* <font color=blue> For 5 clusters Silhouette score is (avg): 0.2504 and Davies-Bouldin score score is: 1.946</font>\n",
    "* <font color=blue> For 6 clusters Silhouette score is (avg): 0.184 and Davies-Bouldin score score is: 2.6</font>\n",
    "* <font color=blue> For 7 clusters Silhouette score is (avg): 0.182 and Davies-Bouldin score score is: 2.27</font>\n",
    "\n",
    "### Zobrazení clusterů na časové ose\n",
    "![title](extracted/A350_A/A350_A_22k_mono-labels.png)\n",
    "### Zobrazení clusterů ve 2D prostoru\n",
    "![title](extracted/A350_A/A350_A_22k_mono-clusters.png)"
   ]
  },
  {
   "cell_type": "markdown",
   "metadata": {},
   "source": [
    "<a id='A350_B1'> </a>\n",
    "## Soubor A350_B1.wav"
   ]
  },
  {
   "cell_type": "markdown",
   "metadata": {},
   "source": [
    "[Zvukové ukázky](https://github.com/MichalTrz/sound-clustering/tree/master/extracted/A350_B1)\n",
    "\n",
    "* <font color=blue> For 2 clusters Silhouette score is: **0.6179** and Davies-Bouldin score score is: **0.7391** </font>\n",
    "* <font color=blue> For 3 clusters Silhouette score is: 0.5235 and Davies-Bouldin score score is: 2.5601 </font>\n",
    "* <font color=blue> For 4 clusters Silhouette score is: 0.5420 and Davies-Bouldin score score is: 1.5530 </font>\n",
    "* <font color=blue> For 5 clusters Silhouette score is: 0.3810 and Davies-Bouldin score score is: 1.5581 </font>\n",
    "\n",
    "### Zobrazení clusterů na časové ose\n",
    "![title](extracted/A350_B1/A350_B1_22k_mono-labels.png)\n",
    "### Zobrazení clusterů ve 2D prostoru\n",
    "![title](extracted/A350_B1/A350_B1_22k_mono-clusters.png)"
   ]
  },
  {
   "cell_type": "markdown",
   "metadata": {},
   "source": [
    "<a id='A350_B2'> </a>\n",
    "## Soubor A350_B2.wav"
   ]
  },
  {
   "cell_type": "markdown",
   "metadata": {},
   "source": [
    "[Zvukové ukázky](https://github.com/MichalTrz/sound-clustering/tree/master/extracted/A350_B2)\n",
    "\n",
    "* <font color=blue> For 2 clusters Silhouette score is (avg): **0.5786** and Davies-Bouldin score is: **0.5881** </font>\n",
    "* <font color=blue> For 3 clusters Silhouette score is (avg): 0.4622 and Davies-Bouldin score is: 0.7830 </font>\n",
    "* <font color=blue> For 4 clusters Silhouette score is (avg): 0.5667 and Davies-Bouldin score is: 1.2679 </font>\n",
    "* <font color=blue> For 5 clusters Silhouette score is (avg): 0.5026 and Davies-Bouldin score is: 1.2718 </font>\n",
    "* <font color=blue> For 6 clusters Silhouette score is (avg): 0.3628 and Davies-Bouldin score is: 1.2584 </font>\n",
    "\n",
    "### Zobrazení clusterů na časové ose\n",
    "![title](extracted/A350_B2/A350_B2_22k_mono-labels.png)\n",
    "### Zobrazení clusterů ve 2D prostoru\n",
    "![title](extracted/A350_B2/A350_B2_22k_mono-clusters.png)"
   ]
  },
  {
   "cell_type": "markdown",
   "metadata": {},
   "source": [
    "<a id='A350_B3_F1'> </a>\n",
    "## Soubor A350_B3_F1.wav"
   ]
  },
  {
   "cell_type": "markdown",
   "metadata": {},
   "source": [
    "[Zvukové ukázky](https://github.com/MichalTrz/sound-clustering/tree/master/extracted/A350_B3_F1)\n",
    "\n",
    "* <font color=blue> For 2 clusters Silhouette score is (avg): **0.5253** and Davies-Bouldin score is: **0.6979** </font>\n",
    "* <font color=blue> For 3 clusters Silhouette score is (avg): 0.4604 and Davies-Bouldin score is: 0.9503 </font>\n",
    "* <font color=blue> For 4 clusters Silhouette score is (avg): 0.4465 and Davies-Bouldin score is: 1.0050 </font>\n",
    "* <font color=blue> For 5 clusters Silhouette score is (avg): 0.3478 and Davies-Bouldin score is: 1.1563 </font>\n",
    "* <font color=blue> For 6 clusters Silhouette score is (avg): 0.2019 and Davies-Bouldin score is: 1.3955 </font>\n",
    "\n",
    "### Zobrazení clusterů na časové ose\n",
    "![title](extracted/A350_B3_F1/A350_B3_F1_22k_mono-labels.png)\n",
    "### Zobrazení clusterů ve 2D prostoru\n",
    "![title](extracted/A350_B3_F1/A350_B3_F1_22k_mono-clusters.png)"
   ]
  },
  {
   "cell_type": "markdown",
   "metadata": {},
   "source": [
    "<a id='A350_B3_F2_pt1'> </a>\n",
    "## Soubor A350_B3_F2_pt1.wav"
   ]
  },
  {
   "cell_type": "markdown",
   "metadata": {},
   "source": [
    "[Zvukové ukázky](https://github.com/MichalTrz/sound-clustering/tree/master/extracted/A350_B3_F2_pt1)\n",
    "\n",
    "* <font color=blue> For 2 clusters Silhouette score is (avg): **0.7874** and Davies-Bouldin score is: **0.2664** </font>\n",
    "* <font color=blue> For 3 clusters Silhouette score is (avg): 0.6908 and Davies-Bouldin score is: 2.7253 </font>\n",
    "* <font color=blue> For 4 clusters Silhouette score is (avg): 0.5930 and Davies-Bouldin score is: 1.5861 </font>\n",
    "* <font color=blue> For 5 clusters Silhouette score is (avg): 0.4532 and Davies-Bouldin score is: 1.9721 </font>\n",
    "* <font color=blue> For 6 clusters Silhouette score is (avg): 0.3413 and Davies-Bouldin score is: 2.1707 </font>\n",
    "\n",
    "### Zobrazení clusterů na časové ose\n",
    "![title](extracted/A350_B3_F2_pt1/A350_B3_F2_pt1_22k_mono-labels.png)\n",
    "### Zobrazení clusterů ve 2D prostoru\n",
    "![title](extracted/A350_B3_F2_pt1/A350_B3_F2_pt1_22k_mono-clusters.png)"
   ]
  },
  {
   "cell_type": "markdown",
   "metadata": {},
   "source": [
    "<a id='A350_B3_F2_pt2'> </a>\n",
    "## Soubor A350_B3_F2_pt2.wav"
   ]
  },
  {
   "cell_type": "markdown",
   "metadata": {},
   "source": [
    "[Zvukové ukázky](https://github.com/MichalTrz/sound-clustering/tree/master/extracted/A350_B3_F2_pt2)\n",
    "\n",
    "* <font color=blue> For 2 clusters Silhouette score is (avg): 0.5459 and Davies-Bouldin score is: 0.7787 </font>\n",
    "* <font color=blue> For 3 clusters Silhouette score is (avg): **0.6261** and Davies-Bouldin score is: **0.6150** </font>\n",
    "* <font color=blue> For 4 clusters Silhouette score is (avg): 0.4637 and Davies-Bouldin score is: 0.6813 </font>\n",
    "* <font color=blue> For 5 clusters Silhouette score is (avg): 0.4198 and Davies-Bouldin score is: 1.3136 </font>\n",
    "* <font color=blue> For 6 clusters Silhouette score is (avg): 0.4044 and Davies-Bouldin score is: 0.8453 </font>\n",
    "\n",
    "### Zobrazení clusterů na časové ose\n",
    "![title](extracted/A350_B3_F2_pt2/A350_B3_F2_pt2_22k_mono-labels.png)\n",
    "### Zobrazení clusterů ve 2D prostoru\n",
    "![title](extracted/A350_B3_F2_pt2/A350_B3_F2_pt2_22k_mono-clusters.png)"
   ]
  },
  {
   "cell_type": "markdown",
   "metadata": {},
   "source": [
    "<a id='A350_B3_F2_pt3'> </a>\n",
    "## Soubor A350_B3_F2_pt3.wav"
   ]
  },
  {
   "cell_type": "markdown",
   "metadata": {},
   "source": [
    "[Zvukové ukázky](https://github.com/MichalTrz/sound-clustering/tree/master/extracted/A350_B3_F2_pt3)\n",
    "\n",
    "* <font color=blue> For 2 clusters Silhouette score is (avg): **0.6631** and Davies-Bouldin score is: **0.4089** </font>\n",
    "* <font color=blue> For 3 clusters Silhouette score is (avg): 0.6261 and Davies-Bouldin score is: 0.6150 </font>\n",
    "* <font color=blue> For 4 clusters Silhouette score is (avg): 0.4637 and Davies-Bouldin score is: 0.6813 </font>\n",
    "* <font color=blue> For 5 clusters Silhouette score is (avg): 0.4252 and Davies-Bouldin score is: 0.7402 </font>\n",
    "* <font color=blue> For 6 clusters Silhouette score is (avg): 0.4384 and Davies-Bouldin score is: 0.8155 </font>\n",
    "\n",
    "### Zobrazení clusterů na časové ose\n",
    "![title](extracted/A350_B3_F2_pt3/A350_B3_F2_pt3_22k_mono-labels.png)\n",
    "### Zobrazení clusterů ve 2D prostoru\n",
    "![title](extracted/A350_B3_F2_pt3/A350_B3_F2_pt3_22k_mono-clusters.png)"
   ]
  },
  {
   "cell_type": "code",
   "execution_count": null,
   "metadata": {},
   "outputs": [],
   "source": []
  }
 ],
 "metadata": {
  "kernelspec": {
   "display_name": "Python 3",
   "language": "python",
   "name": "python3"
  },
  "language_info": {
   "codemirror_mode": {
    "name": "ipython",
    "version": 3
   },
   "file_extension": ".py",
   "mimetype": "text/x-python",
   "name": "python",
   "nbconvert_exporter": "python",
   "pygments_lexer": "ipython3",
   "version": "3.7.4"
  }
 },
 "nbformat": 4,
 "nbformat_minor": 2
}
